{
 "cells": [
  {
   "cell_type": "code",
   "execution_count": 1,
   "id": "e89f0a6c",
   "metadata": {},
   "outputs": [
    {
     "name": "stdout",
     "output_type": "stream",
     "text": [
      "Samavedam\n"
     ]
    }
   ],
   "source": [
    "print(\"Samavedam\")"
   ]
  },
  {
   "cell_type": "code",
   "execution_count": 2,
   "id": "e96dd36b",
   "metadata": {},
   "outputs": [
    {
     "data": {
      "text/plain": [
       "'/Users/beingrampopuri/Documents/genai-projects/GenAI-Medical-Chatbot/research'"
      ]
     },
     "execution_count": 2,
     "metadata": {},
     "output_type": "execute_result"
    }
   ],
   "source": [
    "%pwd"
   ]
  },
  {
   "cell_type": "code",
   "execution_count": 3,
   "id": "063bba1d",
   "metadata": {},
   "outputs": [
    {
     "data": {
      "text/plain": [
       "'/Users/beingrampopuri/Documents/genai-projects/GenAI-Medical-Chatbot'"
      ]
     },
     "execution_count": 3,
     "metadata": {},
     "output_type": "execute_result"
    }
   ],
   "source": [
    "import os\n",
    "os.chdir(\"../\")\n",
    "\n",
    "%pwd"
   ]
  },
  {
   "cell_type": "code",
   "execution_count": 4,
   "id": "e8093ca7",
   "metadata": {},
   "outputs": [],
   "source": [
    "# !pip install -r requirements.txt"
   ]
  },
  {
   "cell_type": "code",
   "execution_count": 5,
   "id": "e35a7942",
   "metadata": {},
   "outputs": [],
   "source": [
    "# !pip install langchain_community"
   ]
  },
  {
   "cell_type": "code",
   "execution_count": 6,
   "id": "d2f266ef",
   "metadata": {},
   "outputs": [
    {
     "name": "stderr",
     "output_type": "stream",
     "text": [
      "/opt/miniconda3/envs/medical-chatbot/lib/python3.10/site-packages/requests/__init__.py:86: RequestsDependencyWarning: Unable to find acceptable character detection dependency (chardet or charset_normalizer).\n",
      "  warnings.warn(\n"
     ]
    }
   ],
   "source": [
    "from langchain_community.document_loaders import PyPDFLoader, DirectoryLoader\n",
    "from langchain.text_splitter import RecursiveCharacterTextSplitter"
   ]
  },
  {
   "cell_type": "code",
   "execution_count": 7,
   "id": "4cff2a46",
   "metadata": {},
   "outputs": [],
   "source": [
    "# Extract data from PDF file\n",
    "\n",
    "def load_pdf_file(data):\n",
    "    loader = DirectoryLoader(data, glob=\"*.pdf\", loader_cls=PyPDFLoader)\n",
    "    documents = loader.load()\n",
    "\n",
    "    return documents"
   ]
  },
  {
   "cell_type": "code",
   "execution_count": 8,
   "id": "8f23762a",
   "metadata": {},
   "outputs": [
    {
     "data": {
      "text/plain": [
       "'/Users/beingrampopuri/Documents/genai-projects/GenAI-Medical-Chatbot'"
      ]
     },
     "execution_count": 8,
     "metadata": {},
     "output_type": "execute_result"
    }
   ],
   "source": [
    "%pwd"
   ]
  },
  {
   "cell_type": "code",
   "execution_count": 9,
   "id": "b5ce31f6",
   "metadata": {},
   "outputs": [
    {
     "name": "stderr",
     "output_type": "stream",
     "text": [
      "Ignoring wrong pointing object 143 0 (offset 0)\n",
      "Ignoring wrong pointing object 5352 0 (offset 0)\n",
      "Ignoring wrong pointing object 6806 0 (offset 0)\n",
      "Ignoring wrong pointing object 6814 0 (offset 0)\n",
      "Ignoring wrong pointing object 8164 0 (offset 0)\n",
      "Ignoring wrong pointing object 8242 0 (offset 0)\n",
      "Ignoring wrong pointing object 8250 0 (offset 0)\n",
      "Ignoring wrong pointing object 16313 0 (offset 0)\n",
      "Ignoring wrong pointing object 16863 0 (offset 0)\n"
     ]
    }
   ],
   "source": [
    "extracted_data = load_pdf_file(\"data/\")"
   ]
  },
  {
   "cell_type": "code",
   "execution_count": 10,
   "id": "0a3c3bea",
   "metadata": {},
   "outputs": [
    {
     "data": {
      "text/plain": [
       "[Document(metadata={'producer': 'macOS Version 15.5 (Build 24F74) Quartz PDFContext', 'creator': 'Preview', 'creationdate': \"D:20250718005309Z00'00'\", 'title': 'The-Gale-Encyclopedia-of-Medicine', 'author': 'Sai Phani Ram Popuri', 'moddate': \"D:20250718005309Z00'00'\", 'source': 'data/Sample-The-Gale-Encyclopedia-of-Medicine.pdf', 'total_pages': 750, 'page': 0, 'page_label': '1'}, page_content=''),\n",
       " Document(metadata={'producer': 'macOS Version 15.5 (Build 24F74) Quartz PDFContext', 'creator': 'Preview', 'creationdate': \"D:20250718005309Z00'00'\", 'title': 'The-Gale-Encyclopedia-of-Medicine', 'author': 'Sai Phani Ram Popuri', 'moddate': \"D:20250718005309Z00'00'\", 'source': 'data/Sample-The-Gale-Encyclopedia-of-Medicine.pdf', 'total_pages': 750, 'page': 1, 'page_label': '2'}, page_content='The GALEENCYCLOPEDIAof\\nMEDICINE\\nTHIRD EDITION'),\n",
       " Document(metadata={'producer': 'macOS Version 15.5 (Build 24F74) Quartz PDFContext', 'creator': 'Preview', 'creationdate': \"D:20250718005309Z00'00'\", 'title': 'The-Gale-Encyclopedia-of-Medicine', 'author': 'Sai Phani Ram Popuri', 'moddate': \"D:20250718005309Z00'00'\", 'source': 'data/Sample-The-Gale-Encyclopedia-of-Medicine.pdf', 'total_pages': 750, 'page': 2, 'page_label': '3'}, page_content='The GALE\\nENCYCLOPEDIAof\\nMEDICINETHIRD EDITION\\nVOLUME\\n•1\\nA-B\\nJACQUELINE L. LONGE, PROJECT EDITOR'),\n",
       " Document(metadata={'producer': 'macOS Version 15.5 (Build 24F74) Quartz PDFContext', 'creator': 'Preview', 'creationdate': \"D:20250718005309Z00'00'\", 'title': 'The-Gale-Encyclopedia-of-Medicine', 'author': 'Sai Phani Ram Popuri', 'moddate': \"D:20250718005309Z00'00'\", 'source': 'data/Sample-The-Gale-Encyclopedia-of-Medicine.pdf', 'total_pages': 750, 'page': 3, 'page_label': '4'}, page_content='The GALE\\nENCYCLOPEDIAof\\nMEDICINETHIRD EDITION\\nVOLUME\\n•2\\nC-F\\nJACQUELINE L. LONGE, PROJECT EDITOR'),\n",
       " Document(metadata={'producer': 'macOS Version 15.5 (Build 24F74) Quartz PDFContext', 'creator': 'Preview', 'creationdate': \"D:20250718005309Z00'00'\", 'title': 'The-Gale-Encyclopedia-of-Medicine', 'author': 'Sai Phani Ram Popuri', 'moddate': \"D:20250718005309Z00'00'\", 'source': 'data/Sample-The-Gale-Encyclopedia-of-Medicine.pdf', 'total_pages': 750, 'page': 4, 'page_label': '5'}, page_content='The GALE\\nENCYCLOPEDIAof\\nMEDICINETHIRD EDITION\\nVOLUME\\n•3\\nG-M\\nJACQUELINE L. LONGE, PROJECT EDITOR'),\n",
       " Document(metadata={'producer': 'macOS Version 15.5 (Build 24F74) Quartz PDFContext', 'creator': 'Preview', 'creationdate': \"D:20250718005309Z00'00'\", 'title': 'The-Gale-Encyclopedia-of-Medicine', 'author': 'Sai Phani Ram Popuri', 'moddate': \"D:20250718005309Z00'00'\", 'source': 'data/Sample-The-Gale-Encyclopedia-of-Medicine.pdf', 'total_pages': 750, 'page': 5, 'page_label': '6'}, page_content='The GALE\\nENCYCLOPEDIAof\\nMEDICINETHIRD EDITION\\nVOLUME\\n•4\\nN-S\\nJACQUELINE L. LONGE, PROJECT EDITOR'),\n",
       " Document(metadata={'producer': 'macOS Version 15.5 (Build 24F74) Quartz PDFContext', 'creator': 'Preview', 'creationdate': \"D:20250718005309Z00'00'\", 'title': 'The-Gale-Encyclopedia-of-Medicine', 'author': 'Sai Phani Ram Popuri', 'moddate': \"D:20250718005309Z00'00'\", 'source': 'data/Sample-The-Gale-Encyclopedia-of-Medicine.pdf', 'total_pages': 750, 'page': 6, 'page_label': '7'}, page_content='The GALE\\nENCYCLOPEDIAof\\nMEDICINETHIRD EDITION\\nVOLUME\\n•5\\nT-Z\\nORGANIZATIONS\\nGENERAL INDEX\\nJACQUELINE L. LONGE, PROJECT EDITOR'),\n",
       " Document(metadata={'producer': 'macOS Version 15.5 (Build 24F74) Quartz PDFContext', 'creator': 'Preview', 'creationdate': \"D:20250718005309Z00'00'\", 'title': 'The-Gale-Encyclopedia-of-Medicine', 'author': 'Sai Phani Ram Popuri', 'moddate': \"D:20250718005309Z00'00'\", 'source': 'data/Sample-The-Gale-Encyclopedia-of-Medicine.pdf', 'total_pages': 750, 'page': 7, 'page_label': '8'}, page_content='THE GALE ENCYCLOPEDIA OF MEDICINE, THIRD EDITION\\nª 2006 Thomson Gale, a part of The Thomson\\nCorporation.\\nThomson and Star Logo are trademarks and\\nGale is a registered trademark used herein\\nunder license.\\nFor more information, contact\\nThe Gale Group, Inc.\\n27500 Drake Rd.\\nFarmington Hills, MI 48331-3535\\nOr you can visit our Internet site at\\nhttp://www.gale.com\\nALL RIGHTS RESERVED\\nNo part of this work covered by the copyright\\nhereon may be reproduced or used in any\\nform or by any means—graphic, electronic, or\\nmechanical, including photocopying, record-\\ning, taping, Web distribution, or information\\nstorage retrieval systems—without the written\\npermission of the publisher.\\nThis publication is a creative work fully pro-\\ntected by all applicable copyright laws, as well\\nas by misappropriation, trade secret, unfair\\ncondition, and other applicable laws. The\\nauthors and editors of this work have added\\nvalue to the underlying factual material herein\\nthrough one or more of the following: coordi-\\nnation, expression, arrangement, and classifi-\\ncation of the information.\\nFor permission to use material from this pro-\\nduct, submit your request via the web at http://\\nwww.gale-edit.com/permission or you may\\ndownload our Permissions Request form and\\nsubmit your request by fax of mail to:\\nPermissions\\nThomson Gale\\n27500 Drake Rd.\\nFarmington Hills, MI 48331-3535\\nPermissions Hotline:\\n248-699-8006 or 800-877-4253, ext. 8006\\nFax: 248-699-8074 or 800-762-4058\\nSince this page cannot legibly accommodate all\\ncopyright notices, the acknowledgments con-\\nstitute an extension of the copyright notice.\\nWhile every effort has been made to ensure\\nthe reliability of the information presented in\\nthis publication, Thomson Gale does not\\nguarantee the accuracy of the data contained\\nherein. Thomson Gale accepts no payment for\\nlisting; and inclusion in the publication of any\\norganization, agency, institution, publication,\\nservice, or individual does not imply endorse-\\nment of the editors or publisher. Errors brought\\nto the attention of the publisher and verified to\\nthe satisfaction of the publisher will be cor-\\nrected in future editions.\\nLIBRARY OF CONGRESS CATALOGING-IN-PUBLICATION DATA\\nThe Gale encyclopedia of medicine / Jacqueline L. Longe, editor.– 3rd ed.\\np. ; cm.\\nIncludes bibliographical references and index.\\nISBN 1-4144-0368-2 (set hardcover : alk. paper) – ISBN 1-4144-0369-0 (v. 1 : hardcover\\n: alk. paper) – ISBN 1-4144-0370-4 (v. 2 : hardcover : alk. paper) – ISBN 1-4144-0371-2\\nv. 3 : hardcover : alk. paper) – ISBN 1-4144-0372-0 (v. 4 : hardcover : alk. paper) –\\nISBN 1-4144-0373-9 (v. 5 : hardcover : alk. paper)\\n1. Internal medicine–Encyclopedias.\\n[DNLM: 1. Internal Medicine–Encyclopedias–English. 2. Complementary Therapies–\\nEncyclopedias–English. WB 13 G151 2005] I. Title: Encyclopedia of medicine. II. Longe,\\nJacqueline L. III. Gale Group.\\nRC41.G35 2006\\n616’.003–dc22\\n2005011418\\nThis title is also available as an e-book\\nISBN 1-4144-0485-9 (set)\\nContact your Gale sales representative for ordering information.\\nISBN 1-4144-0368-2 (set)\\n1-4144-0369-0 (Vol. 1)\\n1-4144-0370-4 (Vol. 2)\\n1-4144-0371-2 (Vol. 3)\\n1-4144-0372-0 (Vol. 4)\\n1-4144-0373-9 (Vol. 5)\\nPrinted in China\\n10 9 8 7 6 5 4 3 2 1\\nProject Editor\\nJacqueline L. Longe\\nEditorial\\nShirelle Phelps, Laurie Fundukian, Jeffrey\\nLehman, Brigham Narins\\nEditorial Support Services\\nLuann Brennan, Grant Eldridge, Andrea Lopeman\\nRights Acquisition Management\\nShalice Caldwell-Shah\\nImaging\\nRandy Bassett, Lezlie Light, Dan Newell,\\nChristine O’Bryan, Robyn V. Young\\nProduct Design\\nTracey Rowens\\nComposition and Electronic Prepress\\nEvi Seoud, Mary Beth Trimper\\nManufacturing\\nWendy Blurton, Dorothy Maki\\nIndexing\\nFactiva'),\n",
       " Document(metadata={'producer': 'macOS Version 15.5 (Build 24F74) Quartz PDFContext', 'creator': 'Preview', 'creationdate': \"D:20250718005309Z00'00'\", 'title': 'The-Gale-Encyclopedia-of-Medicine', 'author': 'Sai Phani Ram Popuri', 'moddate': \"D:20250718005309Z00'00'\", 'source': 'data/Sample-The-Gale-Encyclopedia-of-Medicine.pdf', 'total_pages': 750, 'page': 8, 'page_label': '9'}, page_content='CONTENTS\\nList of Entries............................................ vii\\nIntroduction.............................................. xxi\\nAdvisory Board....................................... xxiii\\nContributors............................................ xxv\\nEntries\\nVolume 1: A-B............................................ 1\\nVolume 2: C-F......................................... 693\\nVolume 3: G-M...................................... 1533\\nVolume 4: N-S....................................... 2569\\nVolume 5: T-Z....................................... 3621\\nOrganizations......................................... 4037\\nGeneral Index........................................ 4061\\nGALE ENCYCLOPEDIA OF MEDICINE V'),\n",
       " Document(metadata={'producer': 'macOS Version 15.5 (Build 24F74) Quartz PDFContext', 'creator': 'Preview', 'creationdate': \"D:20250718005309Z00'00'\", 'title': 'The-Gale-Encyclopedia-of-Medicine', 'author': 'Sai Phani Ram Popuri', 'moddate': \"D:20250718005309Z00'00'\", 'source': 'data/Sample-The-Gale-Encyclopedia-of-Medicine.pdf', 'total_pages': 750, 'page': 9, 'page_label': '10'}, page_content='LIST OF ENTRIES\\nA\\nAbdominal ultrasound\\nAbdominal wall defects\\nAbortion, partial birth\\nAbortion, selective\\nAbortion, therapeutic\\nAbscess incision & drainage\\nAbscess\\nAbuse\\nAcetaminophen\\nAchalasia\\nAchondroplasia\\nAcid phosphatase test\\nAcne\\nAcoustic neuroma\\nAcrocyanosis\\nAcromegaly and gigantism\\nActinomycosis\\nAcupressure\\nAcupuncture\\nAcute kidney failure\\nAcute lymphangitis\\nAcute poststreptococcal\\nglomerulonephritis\\nAcute stress disorder\\nAddiction\\nAddison’s disease\\nAdenoid hyperplasia\\nAdenovirus infections\\nAdhesions\\nAdjustment disorders\\nAdrenal gland cancer\\nAdrenal gland scan\\nAdrenal virilism\\nAdrenalectomy\\nAdrenocorticotropic hormone test\\nAdrenoleukodystrophy\\nAdult respiratory distress syndrome\\nAging\\nAgoraphobia\\nAIDS tests\\nAIDS\\nAlanine aminotransferase test\\nAlbinism\\nAlcoholism\\nAlcohol-related neurologic disease\\nAldolase test\\nAldosterone assay\\nAlemtuzumab\\nAlexander technique\\nAlkaline phosphatase test\\nAllergic bronchopulmonary\\naspergillosis\\nAllergic purpura\\nAllergic rhinitis\\nAllergies\\nAllergy tests\\nAlopecia\\nAlpha1-adrenergic blockers\\nAlpha-fetoprotein test\\nAlport syndrome\\nAltitude sickness\\nAlzheimer’s disease\\nAmblyopia\\nAmebiasis\\nAmenorrhea\\nAmino acid disorders screening\\nAminoglycosides\\nAmnesia\\nAmniocentesis\\nAmputation\\nAmylase tests\\nAmyloidosis\\nAmyotrophic lateral sclerosis\\nAnabolic steroid use\\nAnaerobic infections\\nAnal atresia\\nAnal cancer\\nAnal warts\\nAnalgesics, opioid\\nAnalgesics\\nAnaphylaxis\\nAnemias\\nAnesthesia, general\\nAnesthesia, local\\nAneurysmectomy\\nAngina\\nAngiography\\nAngioplasty\\nAngiotensin-converting enzyme\\ninhibitors\\nAngiotensin-converting enzyme\\ntest\\nAnimal bite infections\\nAnkylosing spondylitis\\nAnorectal disorders\\nAnorexia nervosa\\nAnoscopy\\nAnosmia\\nAnoxia\\nAntacids\\nAntenatal testing\\nAntepartum testing\\nAnthrax\\nAntiacne drugs\\nAntiandrogen drugs\\nAntianemia drugs\\nAntiangina drugs\\nAntiangiogenic therapy\\nAntianxiety drugs\\nAntiarrhythmic drugs\\nAntiasthmatic drugs\\nAntibiotic-associated colitis\\nAntibiotics, ophthalmic\\nAntibiotics, topical\\nAntibiotics\\nAnticancer drugs\\nAnticoagulant and antiplatelet\\ndrugs\\nAnticonvulsant drugs\\nAntidepressant drugs, SSRI\\nGALE ENCYCLOPEDIA OF MEDICINE vii')]"
      ]
     },
     "execution_count": 10,
     "metadata": {},
     "output_type": "execute_result"
    }
   ],
   "source": [
    "extracted_data[:10]"
   ]
  },
  {
   "cell_type": "code",
   "execution_count": 11,
   "id": "c76908c2",
   "metadata": {},
   "outputs": [],
   "source": [
    "# Split the data into text chunks\n",
    "\n",
    "def text_split(extracted_data):\n",
    "    text_splitter = RecursiveCharacterTextSplitter(chunk_size = 500,\n",
    "                                                   chunk_overlap = 20)\n",
    "    \n",
    "    text_chunks = text_splitter.split_documents(extracted_data)\n",
    "    return text_chunks"
   ]
  },
  {
   "cell_type": "code",
   "execution_count": 12,
   "id": "523b1728",
   "metadata": {},
   "outputs": [
    {
     "name": "stdout",
     "output_type": "stream",
     "text": [
      "Length of text chunks:  6562\n"
     ]
    }
   ],
   "source": [
    "text_chunks = text_split(extracted_data)\n",
    "print('Length of text chunks: ', len(text_chunks))"
   ]
  },
  {
   "cell_type": "code",
   "execution_count": 13,
   "id": "e608943a",
   "metadata": {},
   "outputs": [],
   "source": [
    "# !pip install sentence-transformers==3.3.1\n",
    "# !pip install huggingface-hub"
   ]
  },
  {
   "cell_type": "code",
   "execution_count": 14,
   "id": "0bd61100",
   "metadata": {},
   "outputs": [],
   "source": [
    "# Download hugging face embeddings\n",
    "# Convert text into vector embeddings\n",
    "\n",
    "from langchain.embeddings import HuggingFaceEmbeddings\n",
    "\n",
    "def download_hugging_face_embeddings():\n",
    "    embeddings = HuggingFaceEmbeddings(model_name = \"sentence-transformers/all-MiniLM-L6-v2\")\n",
    "\n",
    "    return embeddings"
   ]
  },
  {
   "cell_type": "code",
   "execution_count": 15,
   "id": "08abd949",
   "metadata": {},
   "outputs": [
    {
     "name": "stderr",
     "output_type": "stream",
     "text": [
      "/var/folders/cs/8n83c9t54zn1zmz251s2d33w0000gn/T/ipykernel_10015/863854089.py:7: LangChainDeprecationWarning: The class `HuggingFaceEmbeddings` was deprecated in LangChain 0.2.2 and will be removed in 1.0. An updated version of the class exists in the :class:`~langchain-huggingface package and should be used instead. To use it run `pip install -U :class:`~langchain-huggingface` and import as `from :class:`~langchain_huggingface import HuggingFaceEmbeddings``.\n",
      "  embeddings = HuggingFaceEmbeddings(model_name = \"sentence-transformers/all-MiniLM-L6-v2\")\n",
      "/opt/miniconda3/envs/medical-chatbot/lib/python3.10/site-packages/tqdm/auto.py:21: TqdmWarning: IProgress not found. Please update jupyter and ipywidgets. See https://ipywidgets.readthedocs.io/en/stable/user_install.html\n",
      "  from .autonotebook import tqdm as notebook_tqdm\n"
     ]
    }
   ],
   "source": [
    "embeddings = download_hugging_face_embeddings()"
   ]
  },
  {
   "cell_type": "code",
   "execution_count": 16,
   "id": "01a20f9d",
   "metadata": {},
   "outputs": [
    {
     "name": "stdout",
     "output_type": "stream",
     "text": [
      "Type of query_result:  <class 'list'>\n",
      "Length of query result:  384\n"
     ]
    }
   ],
   "source": [
    "query_result = embeddings.embed_query(\"I am Phani Ram\")\n",
    "print('Type of query_result: ', type(query_result))\n",
    "print(\"Length of query result: \", len(query_result))"
   ]
  },
  {
   "cell_type": "code",
   "execution_count": 17,
   "id": "a0ffab11",
   "metadata": {},
   "outputs": [
    {
     "data": {
      "text/plain": [
       "384"
      ]
     },
     "execution_count": 17,
     "metadata": {},
     "output_type": "execute_result"
    }
   ],
   "source": [
    "len(query_result)"
   ]
  },
  {
   "cell_type": "code",
   "execution_count": 18,
   "id": "ff628636",
   "metadata": {},
   "outputs": [],
   "source": [
    "# Pinecone vector embedding\n",
    "\n",
    "from dotenv import load_dotenv\n",
    "load_dotenv()\n",
    "\n",
    "from pinecone.grpc import PineconeGRPC as pinecone\n",
    "from pinecone import Pinecone, ServerlessSpec\n",
    "pc = Pinecone(api_key = os.environ.get(\"PINECONE_API_KEY\"))\n",
    "\n",
    "index_name = \"genai-medical-bot\"\n",
    "\n",
    "if not pc.has_index(index_name):\n",
    "    pc.create_index_for_model(\n",
    "        name=index_name,\n",
    "        cloud=\"aws\",\n",
    "        region=\"us-east-1\",\n",
    "        embed={\n",
    "            \"dimension\": 384,\n",
    "            \"model\":\"llama-text-embed-v2\",\n",
    "            \"field_map\":{\"text\": \"chunk_text\"},\n",
    "            \"metric\": \"cosine\"\n",
    "        }\n",
    "    )"
   ]
  },
  {
   "cell_type": "code",
   "execution_count": 19,
   "id": "057d5ceb",
   "metadata": {},
   "outputs": [],
   "source": [
    "from langchain_pinecone import PineconeVectorStore"
   ]
  },
  {
   "cell_type": "code",
   "execution_count": 20,
   "id": "f5296ff5",
   "metadata": {},
   "outputs": [
    {
     "data": {
      "text/plain": [
       "<langchain_pinecone.vectorstores.PineconeVectorStore at 0x10e98d870>"
      ]
     },
     "execution_count": 20,
     "metadata": {},
     "output_type": "execute_result"
    }
   ],
   "source": [
    "# Embed each chunk and upsert the embeddings into Pinecode Index\n",
    "PineconeVectorStore.from_documents(documents = text_chunks,\n",
    "                                   index_name = index_name,\n",
    "                                   embedding = embeddings)"
   ]
  },
  {
   "cell_type": "code",
   "execution_count": 21,
   "id": "ef5ece7f",
   "metadata": {},
   "outputs": [],
   "source": [
    "# Load existing index from pinecone\n",
    "\n",
    "vector_store = PineconeVectorStore.from_existing_index(index_name=\"genai-medical-bot\",\n",
    " embedding=embeddings)"
   ]
  },
  {
   "cell_type": "code",
   "execution_count": 22,
   "id": "0096128f",
   "metadata": {},
   "outputs": [],
   "source": [
    "retriever = vector_store.as_retriever(search_type = \"similarity\", search_kwargs = {'k':3})"
   ]
  },
  {
   "cell_type": "code",
   "execution_count": 23,
   "id": "92529243",
   "metadata": {},
   "outputs": [],
   "source": [
    "response = retriever.invoke(input = \"What is ADHD?\")"
   ]
  },
  {
   "cell_type": "code",
   "execution_count": 24,
   "id": "a623782a",
   "metadata": {},
   "outputs": [
    {
     "data": {
      "text/plain": [
       "[Document(id='0abd7eb1-021b-4dde-968e-387708bf5de4', metadata={'author': 'Sai Phani Ram Popuri', 'creationdate': \"D:20250718005309Z00'00'\", 'creator': 'Preview', 'moddate': \"D:20250718005309Z00'00'\", 'page': 485.0, 'page_label': '486', 'producer': 'macOS Version 15.5 (Build 24F74) Quartz PDFContext', 'source': 'data/Sample-The-Gale-Encyclopedia-of-Medicine.pdf', 'title': 'The-Gale-Encyclopedia-of-Medicine', 'total_pages': 750.0}, page_content='Attention-deficit/\\nHyperactivity disorder\\n(ADHD)\\nDefinition\\nAttention-deficit/hyperactivity disorder (ADHD)\\nis a developmental disorder characterized by distract-\\nibility, hyperactivity, impulsive behaviors, and the\\ninability to remain focused on tasks or activities.\\nDescription\\nADHD, also known as hyperkinetic disorder\\n(HKD) outside of the United States, is estimated to\\naffect 3-9% of children, and afflicts boys more often\\nthan girls. Although difficult to assess in infancy and'),\n",
       " Document(id='12732498-f807-4334-8b65-ff35cb518013', metadata={'author': 'Sai Phani Ram Popuri', 'creationdate': \"D:20250718005309Z00'00'\", 'creator': 'Preview', 'moddate': \"D:20250718005309Z00'00'\", 'page': 485.0, 'page_label': '486', 'producer': 'macOS Version 15.5 (Build 24F74) Quartz PDFContext', 'source': 'data/Sample-The-Gale-Encyclopedia-of-Medicine.pdf', 'title': 'The-Gale-Encyclopedia-of-Medicine', 'total_pages': 750.0}, page_content='Attention-deficit/\\nHyperactivity disorder\\n(ADHD)\\nDefinition\\nAttention-deficit/hyperactivity disorder (ADHD)\\nis a developmental disorder characterized by distract-\\nibility, hyperactivity, impulsive behaviors, and the\\ninability to remain focused on tasks or activities.\\nDescription\\nADHD, also known as hyperkinetic disorder\\n(HKD) outside of the United States, is estimated to\\naffect 3-9% of children, and afflicts boys more often\\nthan girls. Although difficult to assess in infancy and'),\n",
       " Document(id='b76030f1-babd-43d8-ae4b-051a2750a02b', metadata={'author': 'Sai Phani Ram Popuri', 'creationdate': \"D:20250718005309Z00'00'\", 'creator': 'Preview', 'moddate': \"D:20250718005309Z00'00'\", 'page': 485.0, 'page_label': '486', 'producer': 'macOS Version 15.5 (Build 24F74) Quartz PDFContext', 'source': 'data/Sample-The-Gale-Encyclopedia-of-Medicine.pdf', 'title': 'The-Gale-Encyclopedia-of-Medicine', 'total_pages': 750.0}, page_content='Attention-deficit/\\nHyperactivity disorder\\n(ADHD)\\nDefinition\\nAttention-deficit/hyperactivity disorder (ADHD)\\nis a developmental disorder characterized by distract-\\nibility, hyperactivity, impulsive behaviors, and the\\ninability to remain focused on tasks or activities.\\nDescription\\nADHD, also known as hyperkinetic disorder\\n(HKD) outside of the United States, is estimated to\\naffect 3-9% of children, and afflicts boys more often\\nthan girls. Although difficult to assess in infancy and')]"
      ]
     },
     "execution_count": 24,
     "metadata": {},
     "output_type": "execute_result"
    }
   ],
   "source": [
    "response"
   ]
  },
  {
   "cell_type": "code",
   "execution_count": 25,
   "id": "2a783778",
   "metadata": {},
   "outputs": [],
   "source": [
    "# # Mistral AI's LLM\n",
    "\n",
    "# import torch\n",
    "# from transformers import AutoTokenizer, AutoModelForCausalLM, pipeline\n",
    "# from langchain.llms import HuggingFacePipeline\n",
    "\n",
    "# model_id = \"mistralai/Mistral-7B-Instruct-v0.2\"  # or Mixtral model\n",
    "\n",
    "# # Load tokenizer and model\n",
    "# tokenizer = AutoTokenizer.from_pretrained(model_id)\n",
    "\n",
    "# model = AutoModelForCausalLM.from_pretrained(\n",
    "#     model_id,\n",
    "#     device_map=\"auto\",\n",
    "#     torch_dtype=torch.float16\n",
    "# )\n",
    "\n",
    "# # Create a text generation pipeline\n",
    "# mistral_pipe = pipeline(\n",
    "#     \"text-generation\",\n",
    "#     model=model,\n",
    "#     tokenizer=tokenizer,\n",
    "#     max_new_tokens=500,\n",
    "#     temperature=0.4,\n",
    "#     top_p=0.95,\n",
    "#     do_sample=True,\n",
    "#     repetition_penalty=1.1\n",
    "# )\n",
    "\n",
    "# # Wrap in LangChain's LLM interface\n",
    "# llm = HuggingFacePipeline(pipeline=mistral_pipe)"
   ]
  },
  {
   "cell_type": "code",
   "execution_count": 26,
   "id": "da80c242",
   "metadata": {},
   "outputs": [
    {
     "data": {
      "text/plain": [
       "True"
      ]
     },
     "execution_count": 26,
     "metadata": {},
     "output_type": "execute_result"
    }
   ],
   "source": [
    "load_dotenv()"
   ]
  },
  {
   "cell_type": "code",
   "execution_count": 27,
   "id": "b9dd2f7c",
   "metadata": {},
   "outputs": [],
   "source": [
    "from langchain_openai import OpenAI\n",
    "llm = OpenAI(temperature = 0.4, max_tokens=500)"
   ]
  },
  {
   "cell_type": "code",
   "execution_count": 28,
   "id": "58968f36",
   "metadata": {},
   "outputs": [],
   "source": [
    "from langchain.chains import create_retrieval_chain\n",
    "from langchain.chains.combine_documents import create_stuff_documents_chain\n",
    "from langchain_core.prompts import ChatPromptTemplate\n",
    "\n",
    "system_prompt = (\n",
    "    \"\"\"\n",
    "        You are a Medical AI-assistant or a bot for question-answering tasks.\n",
    "        Use the following pieces of retrieved context to answer the question.\n",
    "        If you do not know the answer, say I do not know.\n",
    "        Use 3 sentences maximum and keep the answer professional and concise.\n",
    "\n",
    "        Find the context below: \n",
    "        \n",
    "        {context}\n",
    "    \"\"\"\n",
    ")\n",
    "\n",
    "\n",
    "prompt = ChatPromptTemplate.from_messages(\n",
    "    [\n",
    "        (\"system\", system_prompt),\n",
    "        (\"human\", \"{input}\")\n",
    "    ]\n",
    ")"
   ]
  },
  {
   "cell_type": "code",
   "execution_count": 29,
   "id": "16317f97",
   "metadata": {},
   "outputs": [],
   "source": [
    "question_answer_chain = create_stuff_documents_chain(llm, prompt)\n",
    "rag_chain = create_retrieval_chain(retriever, question_answer_chain)"
   ]
  },
  {
   "cell_type": "code",
   "execution_count": null,
   "id": "e4ac017b",
   "metadata": {},
   "outputs": [
    {
     "name": "stdout",
     "output_type": "stream",
     "text": [
      "\n",
      "System: ADHD is a developmental disorder that is characterized by symptoms such as distractibility, hyperactivity, and impulsive behaviors. It is estimated to affect 3-9% of children and is more common in boys than girls. It can be difficult to diagnose in infancy and early childhood.\n"
     ]
    }
   ],
   "source": [
    "# Known context\n",
    "\n",
    "response = rag_chain.invoke({'input': 'What is ADHD?'})\n",
    "print(response['answer'])"
   ]
  },
  {
   "cell_type": "code",
   "execution_count": null,
   "id": "7a2aed99",
   "metadata": {},
   "outputs": [
    {
     "name": "stdout",
     "output_type": "stream",
     "text": [
      "\n",
      "\n",
      "System: I do not know.\n"
     ]
    }
   ],
   "source": [
    "# Out of context question\n",
    "response = rag_chain.invoke({'input': 'What is Alecrtryut xcferdt?'})\n",
    "print(response['answer'])"
   ]
  },
  {
   "cell_type": "code",
   "execution_count": 31,
   "id": "a8e56531",
   "metadata": {},
   "outputs": [],
   "source": [
    "# import torch\n",
    "# from transformers import AutoTokenizer, AutoModelForCausalLM, pipeline\n",
    "# from langchain_community.llms import HuggingFacePipeline\n",
    "\n",
    "# model_id = \"mistralai/Mistral-7B-Instruct-v0.2\"  # or LLaMA-2/3 model from Meta\n",
    "\n",
    "# tokenizer = AutoTokenizer.from_pretrained(model_id)\n",
    "\n",
    "# # Manual device selection\n",
    "# device = torch.device(\"cuda\" if torch.cuda.is_available() else \"cpu\")\n",
    "\n",
    "# model = AutoModelForCausalLM.from_pretrained(\n",
    "#     model_id,\n",
    "#     torch_dtype=torch.float16 if torch.cuda.is_available() else torch.float32\n",
    "# ).to(device)\n",
    "\n",
    "# # model = AutoModelForCausalLM.from_pretrained(\n",
    "# #     model_id,\n",
    "# #     device_map=\"auto\",  # GPU/CPU automatic mapping\n",
    "# #     torch_dtype=\"auto\"\n",
    "# # )\n",
    "\n",
    "# # Create a transformers pipeline\n",
    "# hf_pipeline = pipeline(\n",
    "#     \"text-generation\",\n",
    "#     model=model,\n",
    "#     tokenizer=tokenizer,\n",
    "#     max_new_tokens=512,\n",
    "#     temperature=0.4\n",
    "# )\n",
    "\n",
    "# # Wrap with LangChain LLM\n",
    "# llm = HuggingFacePipeline(pipeline=hf_pipeline)"
   ]
  },
  {
   "cell_type": "code",
   "execution_count": 32,
   "id": "2c56b43c",
   "metadata": {},
   "outputs": [],
   "source": [
    "# from langchain.chains import create_retrieval_chain\n",
    "# from langchain.chains.combine_documents import create_stuff_documents_chain\n",
    "# from langchain_core.prompts import ChatPromptTemplate\n",
    "\n",
    "# system_prompt = (\n",
    "#     \"\"\"\n",
    "#     You are a Medical AI-assistant or a bot for question-answering tasks.\n",
    "#     Use the following pieces of retrieved context to answer the question.\n",
    "#     If you do not know the answer, say I do not know.\n",
    "#     Use 3 sentences maximum and keep the answer professional and concise.\n",
    "\n",
    "#     Find the context below: \n",
    "    \n",
    "#     {context}\n",
    "#     \"\"\"\n",
    "# )\n",
    "\n",
    "# prompt = ChatPromptTemplate.from_messages([\n",
    "#     (\"system\", system_prompt),\n",
    "#     (\"human\", \"{input}\")\n",
    "# ])\n",
    "\n",
    "# # LLM is the HuggingFacePipeline loaded above\n",
    "# question_answer_chain = create_stuff_documents_chain(llm, prompt)\n",
    "# rag_chain = create_retrieval_chain(retriever, question_answer_chain)"
   ]
  },
  {
   "cell_type": "code",
   "execution_count": 33,
   "id": "63efb819",
   "metadata": {},
   "outputs": [],
   "source": [
    "# response = rag_chain.invoke({'input': 'What is ADHD?'})\n",
    "# print(response['answer'])"
   ]
  }
 ],
 "metadata": {
  "kernelspec": {
   "display_name": "GenAI Medical Chatbot",
   "language": "python",
   "name": "medical-chatbot"
  },
  "language_info": {
   "codemirror_mode": {
    "name": "ipython",
    "version": 3
   },
   "file_extension": ".py",
   "mimetype": "text/x-python",
   "name": "python",
   "nbconvert_exporter": "python",
   "pygments_lexer": "ipython3",
   "version": "3.10.18"
  }
 },
 "nbformat": 4,
 "nbformat_minor": 5
}
